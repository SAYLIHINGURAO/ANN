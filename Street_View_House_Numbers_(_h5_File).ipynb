{
  "nbformat": 4,
  "nbformat_minor": 0,
  "metadata": {
    "colab": {
      "name": "Street View House Numbers (.h5 File).ipynb",
      "provenance": [],
      "collapsed_sections": [],
      "authorship_tag": "ABX9TyMH4h0He7ksHL0FVsW/TW/A",
      "include_colab_link": true
    },
    "kernelspec": {
      "name": "python3",
      "display_name": "Python 3"
    }
  },
  "cells": [
    {
      "cell_type": "markdown",
      "metadata": {
        "id": "view-in-github",
        "colab_type": "text"
      },
      "source": [
        "<a href=\"https://colab.research.google.com/github/SAYLIHINGURAO/ANN/blob/main/Street_View_House_Numbers_(_h5_File).ipynb\" target=\"_parent\"><img src=\"https://colab.research.google.com/assets/colab-badge.svg\" alt=\"Open In Colab\"/></a>"
      ]
    },
    {
      "cell_type": "markdown",
      "metadata": {
        "id": "Uybz2b62-97b"
      },
      "source": [
        " **Import Tensorflow\r\n",
        "Version of Tensorflow**"
      ]
    },
    {
      "cell_type": "code",
      "metadata": {
        "colab": {
          "base_uri": "https://localhost:8080/",
          "height": 35
        },
        "id": "sad-7lO7_Amu",
        "outputId": "ea1ce307-7581-4bfa-f7f4-5049c75412cd"
      },
      "source": [
        "%tensorflow_version 2.x\r\n",
        "import tensorflow\r\n",
        "tensorflow.__version__ "
      ],
      "execution_count": 1,
      "outputs": [
        {
          "output_type": "execute_result",
          "data": {
            "application/vnd.google.colaboratory.intrinsic+json": {
              "type": "string"
            },
            "text/plain": [
              "'2.4.1'"
            ]
          },
          "metadata": {
            "tags": []
          },
          "execution_count": 1
        }
      ]
    },
    {
      "cell_type": "code",
      "metadata": {
        "id": "FJGJsoMf_ELo"
      },
      "source": [
        "# import Random number Generator\r\n",
        "import random\r\n",
        "random.seed(0)"
      ],
      "execution_count": 2,
      "outputs": []
    },
    {
      "cell_type": "code",
      "metadata": {
        "id": "7R1apqyx_HQB"
      },
      "source": [
        "# ignore the warnings\r\n",
        "import warnings\r\n",
        "warnings.filterwarnings('ignore')"
      ],
      "execution_count": 3,
      "outputs": []
    },
    {
      "cell_type": "markdown",
      "metadata": {
        "id": "XFiKfJ9n_No8"
      },
      "source": [
        "**mount the google drive**"
      ]
    },
    {
      "cell_type": "code",
      "metadata": {
        "colab": {
          "base_uri": "https://localhost:8080/"
        },
        "id": "eh1QDkNJ_LXD",
        "outputId": "5bf4c402-6689-450b-878c-5e971007bcf7"
      },
      "source": [
        "from google.colab import drive\r\n",
        "drive.mount('/content/drive')"
      ],
      "execution_count": 4,
      "outputs": [
        {
          "output_type": "stream",
          "text": [
            "Mounted at /content/drive\n"
          ],
          "name": "stdout"
        }
      ]
    },
    {
      "cell_type": "markdown",
      "metadata": {
        "id": "5YsMH9NE_jqA"
      },
      "source": [
        "**Load the Datasets**\r\n",
        "# Street View House Numbers (.h5 File)\r\n",
        "> The Street View House Numbers (SVHN) Dataset\r\n",
        "\r\n",
        "Description\r\n",
        "\r\n",
        "**Context**\r\n",
        "> Over 60k Real-World Images of House Numbers From Google \r\n",
        "   Street View Images\r\n",
        "\r\n",
        "**Acknowledgements**\r\n",
        "> Stanford University\r\n",
        "\r\n",
        "**Inspiration**\r\n",
        "  \r\n",
        "1.   Can computers be taught to read images and identify     numbers within it?\r\n",
        "2.   Can this act as a starting point for Self-drive        (autopilot)cars to read numbers from road signs ?\r\n",
        "\r\n",
        " About this file\r\n",
        "> This dataset is the shorter version of Stanford SVHN data which comprises of 600k images. While this dataset consists of 42k train, 18k test images.\r\n",
        "\r\n",
        " **Import packages for H5 format file.** \r\n",
        "> Load the file by copied path of uploaded file"
      ]
    },
    {
      "cell_type": "markdown",
      "metadata": {
        "id": "eDufZ7-PAUhW"
      },
      "source": [
        "h5py.File act as an dictionary so we can access its keys\r\n",
        ">We can examine from this dataset is HDF5 dataset i.e\r\n",
        "Hierarchical Data Format version 5 It divides into two parts\r\n",
        "\r\n",
        "X_test,X_train,X_val\r\n",
        "y_test,y_train,y_val Total 6 datasets\r\n",
        "X_test,X_train,X_val: Shape of this 3 is in 3 Dimensions and its datatype is f4 i.e 'f4' also means 'float32\r\n",
        "y_test,y_train,y_val: shape of this 3 in single Dimension and its datatype is u1 i.e U unicode, data type\r\n",
        "shape is somewhat similar if you look X & Y 6 datasets"
      ]
    },
    {
      "cell_type": "code",
      "metadata": {
        "colab": {
          "base_uri": "https://localhost:8080/"
        },
        "id": "fF6WP0tp_XZX",
        "outputId": "bc2dae6a-7ccd-467a-f5c4-a325f38a1e27"
      },
      "source": [
        "import h5py\r\n",
        "h5f= h5py.File('/content/drive/MyDrive/SVHN_single_grey1.h5')\r\n",
        "print(h5f.keys())\r\n",
        "print(type(h5f))"
      ],
      "execution_count": 5,
      "outputs": [
        {
          "output_type": "stream",
          "text": [
            "<KeysViewHDF5 ['X_test', 'X_train', 'X_val', 'y_test', 'y_train', 'y_val']>\n",
            "<class 'h5py._hl.files.File'>\n"
          ],
          "name": "stdout"
        }
      ]
    },
    {
      "cell_type": "code",
      "metadata": {
        "id": "CsmJNXImvwXQ"
      },
      "source": [
        "X_train= h5f['X_train']\r\n",
        "X_test= h5f['X_test']\r\n",
        "X_val= h5f['X_val']\r\n",
        "y_train= h5f['y_train']\r\n",
        "y_test= h5f['y_test']\r\n",
        "y_val= h5f['y_val']"
      ],
      "execution_count": 8,
      "outputs": []
    },
    {
      "cell_type": "markdown",
      "metadata": {
        "id": "J9s7QGOmvc7g"
      },
      "source": [
        "**Preprocess the images with labels**"
      ]
    },
    {
      "cell_type": "code",
      "metadata": {
        "colab": {
          "base_uri": "https://localhost:8080/",
          "height": 300
        },
        "id": "CNUjMLCcveWK",
        "outputId": "7a8f5f67-746d-46de-95c6-b00ba27163db"
      },
      "source": [
        "import matplotlib.pyplot as plt\r\n",
        "%matplotlib inline\r\n",
        "print(\"label:{}\",format(y_train[10000]))\r\n",
        "plt.imshow(X_train[10000],cmap='gray')"
      ],
      "execution_count": 9,
      "outputs": [
        {
          "output_type": "stream",
          "text": [
            "label:{} 8\n"
          ],
          "name": "stdout"
        },
        {
          "output_type": "execute_result",
          "data": {
            "text/plain": [
              "<matplotlib.image.AxesImage at 0x7f8d00897080>"
            ]
          },
          "metadata": {
            "tags": []
          },
          "execution_count": 9
        },
        {
          "output_type": "display_data",
          "data": {
            "image/png": "[encoded data removed]",
            "text/plain": [
              "<Figure size 432x288 with 1 Axes>"
            ]
          },
          "metadata": {
            "tags": [],
            "needs_background": "light"
          }
        }
      ]
    },
    {
      "cell_type": "code",
      "metadata": {
        "colab": {
          "base_uri": "https://localhost:8080/"
        },
        "id": "eh0nIpfHIAdo",
        "outputId": "9d91b5e1-79e5-4cd6-bfb4-8a622f06092d"
      },
      "source": [
        "X_test"
      ],
      "execution_count": 10,
      "outputs": [
        {
          "output_type": "execute_result",
          "data": {
            "text/plain": [
              "<HDF5 dataset \"X_test\": shape (18000, 32, 32), type \"<f4\">"
            ]
          },
          "metadata": {
            "tags": []
          },
          "execution_count": 10
        }
      ]
    },
    {
      "cell_type": "code",
      "metadata": {
        "colab": {
          "base_uri": "https://localhost:8080/"
        },
        "id": "pXaEIigaIEpc",
        "outputId": "4f8dffd6-a7c9-4726-e9a5-6ce6203a7f69"
      },
      "source": [
        "X_train"
      ],
      "execution_count": 11,
      "outputs": [
        {
          "output_type": "execute_result",
          "data": {
            "text/plain": [
              "<HDF5 dataset \"X_train\": shape (42000, 32, 32), type \"<f4\">"
            ]
          },
          "metadata": {
            "tags": []
          },
          "execution_count": 11
        }
      ]
    },
    {
      "cell_type": "code",
      "metadata": {
        "colab": {
          "base_uri": "https://localhost:8080/"
        },
        "id": "PMC3II_HIIXY",
        "outputId": "83297f6c-d97a-4c21-8989-3c4395a0f2c1"
      },
      "source": [
        "X_val"
      ],
      "execution_count": 12,
      "outputs": [
        {
          "output_type": "execute_result",
          "data": {
            "text/plain": [
              "<HDF5 dataset \"X_val\": shape (60000, 32, 32), type \"<f4\">"
            ]
          },
          "metadata": {
            "tags": []
          },
          "execution_count": 12
        }
      ]
    },
    {
      "cell_type": "code",
      "metadata": {
        "colab": {
          "base_uri": "https://localhost:8080/"
        },
        "id": "qJZ5uMaEIL8P",
        "outputId": "50adca09-21f1-405b-d0fc-919b72a0e833"
      },
      "source": [
        "y_test"
      ],
      "execution_count": 13,
      "outputs": [
        {
          "output_type": "execute_result",
          "data": {
            "text/plain": [
              "<HDF5 dataset \"y_test\": shape (18000,), type \"|u1\">"
            ]
          },
          "metadata": {
            "tags": []
          },
          "execution_count": 13
        }
      ]
    },
    {
      "cell_type": "code",
      "metadata": {
        "colab": {
          "base_uri": "https://localhost:8080/"
        },
        "id": "YMvoZV_kIQGc",
        "outputId": "bcf154f8-9e35-4341-fa05-8e67ab7489cf"
      },
      "source": [
        "y_train"
      ],
      "execution_count": 14,
      "outputs": [
        {
          "output_type": "execute_result",
          "data": {
            "text/plain": [
              "<HDF5 dataset \"y_train\": shape (42000,), type \"|u1\">"
            ]
          },
          "metadata": {
            "tags": []
          },
          "execution_count": 14
        }
      ]
    },
    {
      "cell_type": "code",
      "metadata": {
        "colab": {
          "base_uri": "https://localhost:8080/"
        },
        "id": "wvzNv4mQITeQ",
        "outputId": "b232e8af-4585-4433-d42a-8c790594e32d"
      },
      "source": [
        "y_val"
      ],
      "execution_count": 15,
      "outputs": [
        {
          "output_type": "execute_result",
          "data": {
            "text/plain": [
              "<HDF5 dataset \"y_val\": shape (60000,), type \"|u1\">"
            ]
          },
          "metadata": {
            "tags": []
          },
          "execution_count": 15
        }
      ]
    },
    {
      "cell_type": "code",
      "metadata": {
        "colab": {
          "base_uri": "https://localhost:8080/"
        },
        "id": "wmAgAeOUAnVG",
        "outputId": "dbc14687-11b6-43ac-ac70-1080b7a51c05"
      },
      "source": [
        "print(X_train.shape)\r\n",
        "print(X_test.shape)\r\n",
        "print(X_val.shape)\r\n",
        "print(y_train.shape)\r\n",
        "print(y_test.shape)\r\n",
        "print(y_val.shape)"
      ],
      "execution_count": 16,
      "outputs": [
        {
          "output_type": "stream",
          "text": [
            "(42000, 32, 32)\n",
            "(18000, 32, 32)\n",
            "(60000, 32, 32)\n",
            "(42000,)\n",
            "(18000,)\n",
            "(60000,)\n"
          ],
          "name": "stdout"
        }
      ]
    },
    {
      "cell_type": "code",
      "metadata": {
        "id": "tvhzYoiWwZ0w"
      },
      "source": [
        "import numpy as np\r\n",
        "X_test=np.array([X_test])\r\n",
        "X_train=np.array([X_train])\r\n",
        "X_val=np.array([X_val])\r\n",
        "y_test=np.array([y_test])\r\n",
        "y_train=np.array([y_train])\r\n",
        "y_val=np.array([y_val])\r\n"
      ],
      "execution_count": 22,
      "outputs": []
    },
    {
      "cell_type": "code",
      "metadata": {
        "colab": {
          "base_uri": "https://localhost:8080/"
        },
        "id": "ERoTspX4xdrO",
        "outputId": "f0fd91ec-05ce-4757-c2bc-f8514270b5fd"
      },
      "source": [
        "X_test"
      ],
      "execution_count": 23,
      "outputs": [
        {
          "output_type": "execute_result",
          "data": {
            "text/plain": [
              "array([[[[[[[[ 40.558 ,  46.7917,  48.9764, ..., 112.1153,\n",
              "              112.9904, 112.1646],\n",
              "             [ 39.4379,  44.2911,  47.1768, ..., 111.0122,\n",
              "              110.9475, 109.9368],\n",
              "             [ 38.4488,  43.6394,  48.7098, ..., 109.8921,\n",
              "              109.9414, 109.1048],\n",
              "             ...,\n",
              "             [ 34.9869,  35.4707,  39.6676, ..., 109.211 ,\n",
              "              109.9074, 112.7346],\n",
              "             [ 35.6602,  35.5462,  40.3193, ..., 110.9998,\n",
              "              112.049 , 114.3431],\n",
              "             [ 36.1871,  35.4214,  40.6998, ..., 110.0169,\n",
              "              111.2017, 114.1906]],\n",
              "\n",
              "            [[115.1609, 114.161 , 113.1611, ..., 112.0302,\n",
              "              112.6711, 112.7851],\n",
              "             [110.5743, 110.2754, 108.9766, ..., 106.1448,\n",
              "              106.7857, 107.0137],\n",
              "             [102.8031, 102.5042, 101.7924, ...,  95.776 ,\n",
              "               95.531 ,  95.645 ],\n",
              "             ...,\n",
              "             [169.8457, 170.6176, 167.8028, ...,  45.1708,\n",
              "               55.6967,  62.81  ],\n",
              "             [157.7329, 157.6189, 153.8042, ...,  42.9538,\n",
              "               50.1811,  56.1805],\n",
              "             [150.3207, 149.2068, 144.8051, ...,  42.1388,\n",
              "               48.2522,  53.2517]],\n",
              "\n",
              "            [[133.255 , 134.7279, 136.3148, ..., 103.7248,\n",
              "              100.8391, 100.6111],\n",
              "             [134.2549, 135.8418, 138.3146, ..., 117.1965,\n",
              "              114.1968, 114.0828],\n",
              "             [136.2547, 135.9558, 137.4287, ..., 126.8535,\n",
              "              123.7398, 123.4409],\n",
              "             ...,\n",
              "             [135.4136, 133.4847, 131.2569, ..., 129.0552,\n",
              "              131.642 , 133.4569],\n",
              "             [129.3972, 128.7671, 127.8381, ..., 128.5822,\n",
              "              129.2832, 129.9842],\n",
              "             [119.0823, 120.8649, 123.0496, ..., 128.1801,\n",
              "              127.8103, 128.2124]],\n",
              "\n",
              "            ...,\n",
              "\n",
              "            [[166.1898, 164.7169, 162.8311, ...,  92.9414,\n",
              "               97.3431,  97.9301],\n",
              "             [164.6029, 163.717 , 162.1301, ...,  93.0554,\n",
              "               97.3431,  97.0442],\n",
              "             [161.9021, 161.9021, 161.1302, ...,  94.1693,\n",
              "               97.5711,  97.1582],\n",
              "             ...,\n",
              "             [ 75.0679,  84.8219,  96.8638, ..., 163.9019,\n",
              "              163.7879, 163.6739],\n",
              "             [ 81.0673,  87.2947,  93.935 , ..., 163.016 ,\n",
              "              162.788 , 162.674 ],\n",
              "             [ 86.7247,  89.4794,  92.8211, ..., 162.902 ,\n",
              "              162.788 , 162.674 ]],\n",
              "\n",
              "            [[137.5778, 136.6919, 134.8061, ..., 111.1397,\n",
              "              109.314 , 108.0152],\n",
              "             [131.5784, 130.6925, 127.9208, ..., 107.1401,\n",
              "              105.5424, 104.2436],\n",
              "             [119.8076, 118.8077, 115.0361, ..., 101.2547,\n",
              "               99.771 ,  98.8851],\n",
              "             ...,\n",
              "             [130.0238, 129.0239, 125.1383, ..., 141.3755,\n",
              "              141.3755, 140.3756],\n",
              "             [134.0234, 134.0234, 133.1375, ..., 144.4892,\n",
              "              143.3753, 142.3754],\n",
              "             [136.0232, 137.0231, 138.137 , ..., 144.7881,\n",
              "              142.7883, 141.7884]],\n",
              "\n",
              "            [[ 30.182 ,  30.182 ,  30.182 , ...,  41.1208,\n",
              "               42.1207,  42.8217],\n",
              "             [ 30.182 ,  30.182 ,  29.595 , ...,  40.1209,\n",
              "               41.1208,  41.8218],\n",
              "             [ 29.8939,  29.8939,  28.894 , ...,  39.121 ,\n",
              "               40.1209,  40.1209],\n",
              "             ...,\n",
              "             [ 31.9431,  31.9431,  31.9431, ...,  51.4958,\n",
              "               50.9088,  49.9089],\n",
              "             [ 31.1712,  31.1712,  32.0571, ...,  40.2627,\n",
              "               39.9638,  39.2628],\n",
              "             [ 31.1712,  31.1712,  32.1711, ...,  35.0891,\n",
              "               34.6762,  34.0892]]]]]]]], dtype=float32)"
            ]
          },
          "metadata": {
            "tags": []
          },
          "execution_count": 23
        }
      ]
    },
    {
      "cell_type": "code",
      "metadata": {
        "colab": {
          "base_uri": "https://localhost:8080/"
        },
        "id": "wUAZFEitx-wb",
        "outputId": "881596de-2b92-4eec-8b97-526069261b01"
      },
      "source": [
        "X_train"
      ],
      "execution_count": 26,
      "outputs": [
        {
          "output_type": "execute_result",
          "data": {
            "text/plain": [
              "array([[[[[[[[ 33.0704,  30.2601,  26.852 , ...,  71.4471,\n",
              "               58.2204,  42.9939],\n",
              "             [ 25.2283,  25.5533,  29.9765, ..., 113.0209,\n",
              "              103.3639,  84.2949],\n",
              "             [ 26.2775,  22.6137,  40.4763, ..., 113.3028,\n",
              "              121.775 , 115.4228],\n",
              "             ...,\n",
              "             [ 28.5502,  36.212 ,  45.0801, ...,  24.1359,\n",
              "               25.0927,  26.0603],\n",
              "             [ 38.4352,  26.4733,  23.2717, ...,  28.1094,\n",
              "               29.4683,  30.0661],\n",
              "             [ 50.2984,  26.0773,  24.0389, ...,  49.6682,\n",
              "               50.853 ,  53.0377]],\n",
              "\n",
              "            [[ 86.9591,  87.0685,  88.3735, ...,  91.8014,\n",
              "               89.7477,  92.5302],\n",
              "             [ 86.688 ,  86.9114,  87.4337, ...,  90.7306,\n",
              "               87.204 ,  88.5629],\n",
              "             [ 85.9654,  85.8145,  85.9239, ...,  63.8626,\n",
              "               59.8199,  54.8805],\n",
              "             ...,\n",
              "             [ 90.2236,  91.0448,  93.4637, ...,  55.3535,\n",
              "               48.5822,  44.0557],\n",
              "             [ 90.6427,  90.4039,  90.937 , ...,  78.2696,\n",
              "               77.4977,  74.27  ],\n",
              "             [ 88.0236,  88.1977,  86.6709, ...,  75.2206,\n",
              "               76.6396,  79.2865]],\n",
              "\n",
              "            [[123.125 , 125.8581, 122.0757, ..., 123.5747,\n",
              "              124.1186, 123.3144],\n",
              "             [121.1683, 124.1294, 117.4613, ..., 115.6078,\n",
              "              119.5751, 122.8306],\n",
              "             [124.6132, 121.1019, 109.6623, ..., 111.1783,\n",
              "              119.7923, 124.7595],\n",
              "             ...,\n",
              "             [135.1391, 127.3679, 117.754 , ...,  95.0919,\n",
              "              105.5917, 114.9283],\n",
              "             [134.8402, 131.9545, 124.0415, ...,  93.864 ,\n",
              "              105.3036, 115.1132],\n",
              "             [134.8402, 132.0685, 128.34  , ...,  93.9349,\n",
              "              104.7875, 113.8252]],\n",
              "\n",
              "            ...,\n",
              "\n",
              "            [[154.094 , 155.8057, 156.8164, ..., 138.9322,\n",
              "              136.1605, 133.0468],\n",
              "             [145.725 , 147.4367, 150.0343, ..., 145.4477,\n",
              "              140.9751, 136.9647],\n",
              "             [144.9531, 144.8391, 143.85  , ..., 143.263 ,\n",
              "              143.263 , 146.4799],\n",
              "             ...,\n",
              "             [150.2237, 150.8107, 150.1097, ...,  96.8207,\n",
              "               96.9239,  97.2228],\n",
              "             [151.6365, 152.2235, 151.1096, ..., 120.8892,\n",
              "              121.8891, 123.1771],\n",
              "             [146.5769, 147.9358, 147.9358, ..., 135.1328,\n",
              "              136.6596, 137.6595]],\n",
              "\n",
              "            [[207.4954, 208.4953, 213.0218, ..., 210.1361,\n",
              "              208.4244, 203.4357],\n",
              "             [204.4957, 207.6094, 213.6088, ..., 209.4243,\n",
              "              207.8374, 202.5498],\n",
              "             [204.3216, 208.3212, 212.9078, ..., 209.0222,\n",
              "              207.1364, 201.4359],\n",
              "             ...,\n",
              "             [199.1372, 202.083 , 207.4523, ..., 212.8477,\n",
              "              211.8478, 209.5491],\n",
              "             [201.137 , 201.61  , 205.2676, ..., 213.9616,\n",
              "              213.5487, 209.1362],\n",
              "             [202.9088, 202.9088, 206.9084, ..., 214.1357,\n",
              "              212.1359, 209.1362]],\n",
              "\n",
              "            [[ 95.0784,  96.0783, 100.0779, ..., 122.7551,\n",
              "              122.8691, 122.8691],\n",
              "             [ 95.0784,  96.0783, 100.0779, ..., 122.8691,\n",
              "              122.9831, 122.9831],\n",
              "             [ 95.0784,  96.0783, 101.0778, ..., 126.5698,\n",
              "              126.9827, 126.9827],\n",
              "             ...,\n",
              "             [ 98.833 ,  99.8329, 103.8325, ..., 129.8962,\n",
              "              131.896 , 131.896 ],\n",
              "             [ 98.833 ,  99.8329, 103.8325, ..., 136.0805,\n",
              "              138.1943, 138.1943],\n",
              "             [ 98.833 ,  99.8329, 103.8325, ..., 138.0803,\n",
              "              140.493 , 140.493 ]]]]]]]], dtype=float32)"
            ]
          },
          "metadata": {
            "tags": []
          },
          "execution_count": 26
        }
      ]
    },
    {
      "cell_type": "code",
      "metadata": {
        "colab": {
          "base_uri": "https://localhost:8080/"
        },
        "id": "pirzXH_AyEEj",
        "outputId": "d082577e-b390-4c33-edff-054a74739532"
      },
      "source": [
        "X_val"
      ],
      "execution_count": 27,
      "outputs": [
        {
          "output_type": "execute_result",
          "data": {
            "text/plain": [
              "array([[[[[[ 44.299 ,  45.9999,  51.3306, ...,  25.2764,  27.515 ,\n",
              "             27.156 ],\n",
              "           [ 49.1351,  60.3081,  70.1222, ...,  23.7002,  25.2378,\n",
              "             24.2918],\n",
              "           [ 60.7595,  83.7141, 102.1961, ...,  24.5044,  24.9712,\n",
              "             22.8512],\n",
              "           ...,\n",
              "           [ 67.1072,  93.2464, 109.2017, ...,  26.6444,  24.6015,\n",
              "             22.9607],\n",
              "           [ 24.7569,  36.6417,  48.9071, ...,  21.9268,  21.5309,\n",
              "             21.5479],\n",
              "           [ 22.6584,  22.7724,  27.2666, ...,  21.443 ,  20.8191,\n",
              "             20.0812]],\n",
              "\n",
              "          [[ 66.174 ,  66.2772,  67.5652, ...,  63.1545,  81.6751,\n",
              "            103.6083],\n",
              "           [ 69.8424,  67.7178,  66.3481, ...,  55.8994,  69.8935,\n",
              "             93.4244],\n",
              "           [ 67.8489,  67.6532,  66.2835, ...,  57.3445,  70.3495,\n",
              "             92.7665],\n",
              "           ...,\n",
              "           [ 70.7993,  64.7613,  62.652 , ...,  71.0335,  94.8695,\n",
              "            114.3038],\n",
              "           [ 68.3094,  64.4561,  63.3036, ...,  71.0335,  94.3965,\n",
              "            114.5318],\n",
              "           [ 65.9182,  65.7764,  66.2925, ...,  71.3324,  94.3965,\n",
              "            114.4178]],\n",
              "\n",
              "          [[110.2584, 107.0307, 104.9169, ...,  88.0649,  86.478 ,\n",
              "             85.7061],\n",
              "           [108.5575, 103.8569, 102.629 , ...,  98.0639,  97.064 ,\n",
              "             96.477 ],\n",
              "           [104.2698,  99.1563,  98.3413, ..., 106.0631, 106.476 ,\n",
              "            107.7748],\n",
              "           ...,\n",
              "           [104.7105, 101.5367, 100.1778, ..., 122.0014, 116.703 ,\n",
              "            111.0025],\n",
              "           [110.9379, 108.3511, 108.4651, ..., 104.601 , 101.3024,\n",
              "             97.3028],\n",
              "           [116.8233, 115.5245, 115.6385, ..., 102.0142, 100.0144,\n",
              "             99.0145]],\n",
              "\n",
              "          ...,\n",
              "\n",
              "          [[ 42.3595,  41.0715,  41.1316, ...,  63.194 ,  62.9059,\n",
              "             64.0306],\n",
              "           [ 42.3595,  43.0713,  42.8433, ...,  50.6791,  51.9178,\n",
              "             53.2166],\n",
              "           [ 43.3594,  44.3593,  44.1313, ...,  47.2773,  47.9891,\n",
              "             49.217 ],\n",
              "           ...,\n",
              "           [ 44.9401,  44.766 ,  44.652 , ...,  42.056 ,  42.0668,\n",
              "             42.0668],\n",
              "           [ 43.9402,  43.7661,  43.9402, ...,  37.5834,  38.1812,\n",
              "             37.0673],\n",
              "           [ 43.0004,  43.9402,  43.9402, ...,  33.5838,  35.1815,\n",
              "             35.1815]],\n",
              "\n",
              "          [[216.9953, 215.9954, 212.9957, ..., 179.2935, 177.9516,\n",
              "            175.9518],\n",
              "           [218.7671, 215.7674, 216.7072, ..., 178.0656, 179.9514,\n",
              "            178.2505],\n",
              "           [216.6533, 216.1803, 220.1198, ..., 177.8376, 179.6094,\n",
              "            175.5497],\n",
              "           ...,\n",
              "           [180.4182, 178.1195, 179.1194, ..., 180.5214, 181.4073,\n",
              "            177.8098],\n",
              "           [181.9342, 177.9346, 179.1194, ..., 178.8097, 179.8096,\n",
              "            175.924 ],\n",
              "           [182.9341, 179.9344, 181.7062, ..., 178.8097, 178.8097,\n",
              "            175.924 ]],\n",
              "\n",
              "          [[115.1877, 114.1878, 115.1877, ..., 116.6498, 116.8778,\n",
              "            115.7639],\n",
              "           [115.8887, 114.8888, 115.8887, ..., 116.6498, 115.8779,\n",
              "            117.6497],\n",
              "           [115.8887, 116.1768, 116.1768, ..., 116.6498, 117.8777,\n",
              "            117.7637],\n",
              "           ...,\n",
              "           [ 77.6736,  64.0771,  65.0878, ..., 117.7314, 117.9594,\n",
              "            118.2475],\n",
              "           [ 72.9021,  63.0772,  66.0877, ..., 117.8454, 117.9594,\n",
              "            118.2475],\n",
              "           [ 68.3047,  63.0772,  68.3864, ..., 116.9595, 117.9594,\n",
              "            118.2475]]]]]], dtype=float32)"
            ]
          },
          "metadata": {
            "tags": []
          },
          "execution_count": 27
        }
      ]
    },
    {
      "cell_type": "code",
      "metadata": {
        "colab": {
          "base_uri": "https://localhost:8080/"
        },
        "id": "XwwilGZeyHID",
        "outputId": "c9361596-af7e-4416-e8ce-6e9bff1c510f"
      },
      "source": [
        "y_test"
      ],
      "execution_count": 28,
      "outputs": [
        {
          "output_type": "execute_result",
          "data": {
            "text/plain": [
              "array([[[[1, 7, 2, ..., 7, 9, 2]]]], dtype=uint8)"
            ]
          },
          "metadata": {
            "tags": []
          },
          "execution_count": 28
        }
      ]
    },
    {
      "cell_type": "code",
      "metadata": {
        "colab": {
          "base_uri": "https://localhost:8080/"
        },
        "id": "rvG8S8WryJjO",
        "outputId": "8af4d0e9-5e60-40c6-a5b2-186dadf29dec"
      },
      "source": [
        "y_train"
      ],
      "execution_count": 29,
      "outputs": [
        {
          "output_type": "execute_result",
          "data": {
            "text/plain": [
              "array([[[[2, 6, 7, ..., 7, 0, 4]]]], dtype=uint8)"
            ]
          },
          "metadata": {
            "tags": []
          },
          "execution_count": 29
        }
      ]
    },
    {
      "cell_type": "code",
      "metadata": {
        "colab": {
          "base_uri": "https://localhost:8080/"
        },
        "id": "W10s4P-hyLs7",
        "outputId": "38bacb39-155f-484c-d026-3e7dff01b58f"
      },
      "source": [
        "y_val"
      ],
      "execution_count": 30,
      "outputs": [
        {
          "output_type": "execute_result",
          "data": {
            "text/plain": [
              "array([[[[0, 0, 0, ..., 9, 9, 9]]]], dtype=uint8)"
            ]
          },
          "metadata": {
            "tags": []
          },
          "execution_count": 30
        }
      ]
    },
    {
      "cell_type": "code",
      "metadata": {
        "colab": {
          "base_uri": "https://localhost:8080/"
        },
        "id": "1l2UnPcQxhfu",
        "outputId": "29430d9d-68d3-464f-db4d-c9715ebe41e5"
      },
      "source": [
        "print(X_test.shape)\r\n",
        "print(X_train.shape)\r\n",
        "print(X_val.shape)\r\n",
        "print(y_test.shape)\r\n",
        "print(y_train.shape)\r\n",
        "print(y_val.shape)"
      ],
      "execution_count": 25,
      "outputs": [
        {
          "output_type": "stream",
          "text": [
            "(1, 1, 1, 1, 1, 18000, 32, 32)\n",
            "(1, 1, 1, 1, 1, 42000, 32, 32)\n",
            "(1, 1, 1, 60000, 32, 32)\n",
            "(1, 1, 1, 18000)\n",
            "(1, 1, 1, 42000)\n",
            "(1, 1, 1, 60000)\n"
          ],
          "name": "stdout"
        }
      ]
    },
    {
      "cell_type": "markdown",
      "metadata": {
        "id": "j4fCkTCZwKNC"
      },
      "source": [
        "**Normalizing the image\r\n",
        "o to 255 colour scale for computer**"
      ]
    },
    {
      "cell_type": "code",
      "metadata": {
        "colab": {
          "base_uri": "https://localhost:8080/"
        },
        "id": "NpvZ49oWwOCY",
        "outputId": "9aae78fc-cb3d-449a-c064-6d145872e4b2"
      },
      "source": [
        "print('Max',X_train.max())\r\n",
        "print('Min',X_train.min())\r\n",
        "#254.9745 i.e 255"
      ],
      "execution_count": 31,
      "outputs": [
        {
          "output_type": "stream",
          "text": [
            "Max 254.9745\n",
            "Min 0.0\n"
          ],
          "name": "stdout"
        }
      ]
    },
    {
      "cell_type": "code",
      "metadata": {
        "colab": {
          "base_uri": "https://localhost:8080/"
        },
        "id": "sW8xP3FXyXMT",
        "outputId": "bb867cdb-5d36-4cb2-fad0-8f9234e5abba"
      },
      "source": [
        "#Normalising of dataset\r\n",
        "X_train=X_train/255\r\n",
        "X_val=X_val/255\r\n",
        "print(X_train.max())\r\n",
        "print(X_val.min())"
      ],
      "execution_count": 32,
      "outputs": [
        {
          "output_type": "stream",
          "text": [
            "0.9999\n",
            "0.0\n"
          ],
          "name": "stdout"
        }
      ]
    },
    {
      "cell_type": "markdown",
      "metadata": {
        "id": "-76xyU0uyaFi"
      },
      "source": [
        "# 0.9999 i.e 1"
      ]
    },
    {
      "cell_type": "markdown",
      "metadata": {
        "id": "8FfmzvSJA4uc"
      },
      "source": [
        "**Reshape is nothing but rescaling data converting or transformation of 3- D to 2-D shape**"
      ]
    },
    {
      "cell_type": "code",
      "metadata": {
        "colab": {
          "base_uri": "https://localhost:8080/"
        },
        "id": "x67fEn0_AyGV",
        "outputId": "ba9ee458-8d1a-4281-aaeb-7c7234c62098"
      },
      "source": [
        "X_test=X_test.reshape(18000,1024)\r\n",
        "X_train=X_train.reshape(42000,1024)\r\n",
        "X_val=X_val.reshape(60000,1024)\r\n",
        "print(X_test.shape)\r\n",
        "print(X_train.shape)\r\n",
        "print(X_val.shape)"
      ],
      "execution_count": 33,
      "outputs": [
        {
          "output_type": "stream",
          "text": [
            "(18000, 1024)\n",
            "(42000, 1024)\n",
            "(60000, 1024)\n"
          ],
          "name": "stdout"
        }
      ]
    },
    {
      "cell_type": "markdown",
      "metadata": {
        "id": "1lOBx6CxDpsx"
      },
      "source": [
        "**one-hot encode the class vector\r\n",
        "Convert \r\n",
        "list item**"
      ]
    },
    {
      "cell_type": "code",
      "metadata": {
        "id": "ujxshgmHCWcU"
      },
      "source": [
        "y_train =tensorflow.keras.utils.to_categorical(y_train,num_classes=10)\r\n",
        "y_val = tensorflow.keras.utils.to_categorical(y_val,num_classes=10)"
      ],
      "execution_count": 34,
      "outputs": []
    },
    {
      "cell_type": "code",
      "metadata": {
        "colab": {
          "base_uri": "https://localhost:8080/",
          "height": 483
        },
        "id": "9hltXn0PDy73",
        "outputId": "7c9df549-dbcb-4465-89b8-8b9ceb930e86"
      },
      "source": [
        "#visualizing the first 10 images and their labels\r\n",
        "plt.figure(figsize=(8, 8))\r\n",
        "x=[]\r\n",
        "for i in range(1):\r\n",
        "  plt.subplot(1, 1, i+1)\r\n",
        "  plt.imshow(X_train[i].reshape(32,32), cmap=\"gray\")\r\n",
        "  plt.axis('off')\r\n",
        "  print('Label for the below image: %s' % (np.argmax(y_train[0:1][i])))\r\n",
        "  plt.show()"
      ],
      "execution_count": 49,
      "outputs": [
        {
          "output_type": "stream",
          "text": [
            "Label for the below image: 2\n"
          ],
          "name": "stdout"
        },
        {
          "output_type": "display_data",
          "data": {
            "image/png": "[encoded data removed]",
            "text/plain": [
              "<Figure size 576x576 with 1 Axes>"
            ]
          },
          "metadata": {
            "tags": [],
            "needs_background": "light"
          }
        }
      ]
    },
    {
      "cell_type": "markdown",
      "metadata": {
        "id": "S0G8eHa0FpsX"
      },
      "source": [
        "**Create a Model**"
      ]
    },
    {
      "cell_type": "code",
      "metadata": {
        "id": "yeNWGWrjD5IY"
      },
      "source": [
        "from tensorflow.keras.models import Sequential\r\n",
        "from tensorflow.keras.layers import Dense\r\n",
        "from tensorflow.keras import regularizers, optimizers\r\n",
        "from tensorflow.keras.layers import Flatten\r\n",
        "model =Sequential()\r\n",
        "model.add(Flatten())\r\n",
        "model.add(Dense(500, activation=\"relu\")) \r\n",
        "model.add(Dense(10, activation=\"softmax\"))"
      ],
      "execution_count": 43,
      "outputs": []
    },
    {
      "cell_type": "markdown",
      "metadata": {
        "id": "9DB4AdghF2Xk"
      },
      "source": [
        "**Compile the Model**"
      ]
    },
    {
      "cell_type": "code",
      "metadata": {
        "id": "bcCIxwRhFzBi"
      },
      "source": [
        "model.compile(optimizer= 'adam' , loss='categorical_crossentropy', metrics=['accuracy'])"
      ],
      "execution_count": 44,
      "outputs": []
    },
    {
      "cell_type": "code",
      "metadata": {
        "colab": {
          "base_uri": "https://localhost:8080/"
        },
        "id": "fcH42J4o3pMW",
        "outputId": "1c2bce07-0eb4-4917-ae98-bd66b1258133"
      },
      "source": [
        "print(X_train.shape)\r\n",
        "print(y_train.shape)\r\n",
        "print(X_val.shape)\r\n",
        "print(y_val.shape)\r\n",
        "y_train=y_train.reshape(42000,10)\r\n",
        "y_val=y_val.reshape(60000,10)\r\n",
        "print(y_train.shape)\r\n",
        "print(y_val.shape)"
      ],
      "execution_count": 61,
      "outputs": [
        {
          "output_type": "stream",
          "text": [
            "(42000, 1024)\n",
            "(1, 1, 1, 42000, 10)\n",
            "(60000, 1024)\n",
            "(1, 1, 1, 60000, 10)\n",
            "(42000, 10)\n",
            "(60000, 10)\n"
          ],
          "name": "stdout"
        }
      ]
    },
    {
      "cell_type": "markdown",
      "metadata": {
        "id": "r7-FCxGZF-wU"
      },
      "source": [
        "**Train the Model**"
      ]
    },
    {
      "cell_type": "code",
      "metadata": {
        "colab": {
          "base_uri": "https://localhost:8080/"
        },
        "id": "BGRr9-irGLwT",
        "outputId": "6e0e9d41-1999-4e1f-dbd8-d7ae62562059"
      },
      "source": [
        "model.fit(X_train, y_train, validation_data=(X_val,y_val),batch_size = 32, epochs = 10, verbose = 1)"
      ],
      "execution_count": 62,
      "outputs": [
        {
          "output_type": "stream",
          "text": [
            "Epoch 1/10\n",
            "1313/1313 [==============================] - 11s 8ms/step - loss: 2.3289 - accuracy: 0.1159 - val_loss: 2.1208 - val_accuracy: 0.1779\n",
            "Epoch 2/10\n",
            "1313/1313 [==============================] - 9s 7ms/step - loss: 2.0652 - accuracy: 0.2357 - val_loss: 1.9460 - val_accuracy: 0.3020\n",
            "Epoch 3/10\n",
            "1313/1313 [==============================] - 9s 7ms/step - loss: 1.9335 - accuracy: 0.2958 - val_loss: 1.8952 - val_accuracy: 0.3035\n",
            "Epoch 4/10\n",
            "1313/1313 [==============================] - 9s 7ms/step - loss: 1.8815 - accuracy: 0.3062 - val_loss: 1.8601 - val_accuracy: 0.3185\n",
            "Epoch 5/10\n",
            "1313/1313 [==============================] - 9s 7ms/step - loss: 1.8518 - accuracy: 0.3190 - val_loss: 1.8570 - val_accuracy: 0.3185\n",
            "Epoch 6/10\n",
            "1313/1313 [==============================] - 9s 7ms/step - loss: 1.8498 - accuracy: 0.3178 - val_loss: 1.8314 - val_accuracy: 0.3281\n",
            "Epoch 7/10\n",
            "1313/1313 [==============================] - 9s 7ms/step - loss: 1.8384 - accuracy: 0.3207 - val_loss: 1.8318 - val_accuracy: 0.3286\n",
            "Epoch 8/10\n",
            "1313/1313 [==============================] - 9s 7ms/step - loss: 1.8389 - accuracy: 0.3255 - val_loss: 1.8259 - val_accuracy: 0.3265\n",
            "Epoch 9/10\n",
            "1313/1313 [==============================] - 9s 7ms/step - loss: 1.8299 - accuracy: 0.3259 - val_loss: 1.8275 - val_accuracy: 0.3298\n",
            "Epoch 10/10\n",
            "1313/1313 [==============================] - 9s 7ms/step - loss: 1.8321 - accuracy: 0.3245 - val_loss: 1.8207 - val_accuracy: 0.3277\n"
          ],
          "name": "stdout"
        },
        {
          "output_type": "execute_result",
          "data": {
            "text/plain": [
              "<tensorflow.python.keras.callbacks.History at 0x7f8cf4b8eb38>"
            ]
          },
          "metadata": {
            "tags": []
          },
          "execution_count": 62
        }
      ]
    },
    {
      "cell_type": "markdown",
      "metadata": {
        "id": "RfuggAWeGDGo"
      },
      "source": [
        "**Evaluate the model**"
      ]
    },
    {
      "cell_type": "code",
      "metadata": {
        "colab": {
          "base_uri": "https://localhost:8080/"
        },
        "id": "HsL65FWpF8OA",
        "outputId": "75c408cf-24a1-4cdb-acbb-52fa914a318d"
      },
      "source": [
        "model.evaluate(X_train,y_train)"
      ],
      "execution_count": 63,
      "outputs": [
        {
          "output_type": "stream",
          "text": [
            "1313/1313 [==============================] - 3s 2ms/step - loss: 1.8156 - accuracy: 0.3297\n"
          ],
          "name": "stdout"
        },
        {
          "output_type": "execute_result",
          "data": {
            "text/plain": [
              "[1.8156013488769531, 0.3297380805015564]"
            ]
          },
          "metadata": {
            "tags": []
          },
          "execution_count": 63
        }
      ]
    }
  ]
}